{
  "nbformat": 4,
  "nbformat_minor": 0,
  "metadata": {
    "colab": {
      "name": "Digit_Recognizer_MNISTdataset.ipynb",
      "version": "0.3.2",
      "provenance": [],
      "collapsed_sections": []
    },
    "kernelspec": {
      "name": "python3",
      "display_name": "Python 3"
    },
    "accelerator": "GPU"
  },
  "cells": [
    {
      "metadata": {
        "id": "TDqUjGedxbJS",
        "colab_type": "text"
      },
      "cell_type": "markdown",
      "source": [
        "# MNIST Handwritten Digit Recognition\n",
        "\n",
        "MNIST (\"Modified National Institute of Standards and Technology\") is the de facto “hello world” dataset of computer vision. Since its release in 1999, this classic dataset of handwritten images has served as the basis for benchmarking classification algorithms. As new machine learning techniques emerge, MNIST remains a reliable resource for researchers and learners alike.\n",
        "\n",
        "In this dataset, our goal is to correctly identify digits from a dataset of tens of thousands of handwritten images. \n",
        "\n",
        "<img src=\"https://image.ibb.co/dCcSBV/mnist.png\">"
      ]
    },
    {
      "metadata": {
        "id": "qJjtB_c_ysn9",
        "colab_type": "text"
      },
      "cell_type": "markdown",
      "source": [
        "# Importing Essential Libraries"
      ]
    },
    {
      "metadata": {
        "id": "bJzGF2KWewav",
        "colab_type": "code",
        "colab": {}
      },
      "cell_type": "code",
      "source": [
        "import pandas as pd\n",
        "import numpy as np\n",
        "import matplotlib.pyplot as plt\n",
        "import matplotlib.image as mpimg\n",
        "import seaborn as sns\n",
        "%matplotlib inline\n",
        "\n",
        "np.random.seed(2)\n",
        "\n",
        "from sklearn.model_selection import train_test_split\n",
        "from sklearn.metrics import confusion_matrix\n",
        "import itertools\n",
        "from keras.layers.normalization import BatchNormalization\n",
        "from keras.utils.np_utils import to_categorical # convert to one-hot-encoding\n",
        "from keras.models import Sequential\n",
        "from keras.layers import Dense, Dropout, Flatten, Conv2D, MaxPool2D\n",
        "from keras.optimizers import Adam\n",
        "from keras.preprocessing.image import ImageDataGenerator\n",
        "from keras.callbacks import ReduceLROnPlateau\n",
        "import pandas as pd\n",
        "\n",
        "sns.set(style='white', context='notebook', palette='deep')"
      ],
      "execution_count": 0,
      "outputs": []
    },
    {
      "metadata": {
        "id": "sMMcvhy6f1vk",
        "colab_type": "code",
        "colab": {
          "base_uri": "https://localhost:8080/",
          "height": 323
        },
        "outputId": "fd780e0e-837a-495d-dab1-af2a13ad7946"
      },
      "cell_type": "code",
      "source": [
        "! pip install pydrive"
      ],
      "execution_count": 2,
      "outputs": [
        {
          "output_type": "stream",
          "text": [
            "Collecting pydrive\n",
            "\u001b[?25l  Downloading https://files.pythonhosted.org/packages/52/e0/0e64788e5dd58ce2d6934549676243dc69d982f198524be9b99e9c2a4fd5/PyDrive-1.3.1.tar.gz (987kB)\n",
            "\r\u001b[K    1% |▎                               | 10kB 20.0MB/s eta 0:00:01\r\u001b[K    2% |▋                               | 20kB 4.4MB/s eta 0:00:01\r\u001b[K    3% |█                               | 30kB 6.2MB/s eta 0:00:01\r\u001b[K    4% |█▎                              | 40kB 4.1MB/s eta 0:00:01\r\u001b[K    5% |█▋                              | 51kB 5.0MB/s eta 0:00:01\r\u001b[K    6% |██                              | 61kB 5.9MB/s eta 0:00:01\r\u001b[K    7% |██▎                             | 71kB 6.6MB/s eta 0:00:01\r\u001b[K    8% |██▋                             | 81kB 7.4MB/s eta 0:00:01\r\u001b[K    9% |███                             | 92kB 8.2MB/s eta 0:00:01\r\u001b[K    10% |███▎                            | 102kB 6.7MB/s eta 0:00:01\r\u001b[K    11% |███▋                            | 112kB 6.7MB/s eta 0:00:01\r\u001b[K    12% |████                            | 122kB 9.1MB/s eta 0:00:01\r\u001b[K    13% |████▎                           | 133kB 9.0MB/s eta 0:00:01\r\u001b[K    14% |████▋                           | 143kB 15.3MB/s eta 0:00:01\r\u001b[K    15% |█████                           | 153kB 15.4MB/s eta 0:00:01\r\u001b[K    16% |█████▎                          | 163kB 15.5MB/s eta 0:00:01\r\u001b[K    17% |█████▋                          | 174kB 15.8MB/s eta 0:00:01\r\u001b[K    18% |██████                          | 184kB 16.0MB/s eta 0:00:01\r\u001b[K    19% |██████▎                         | 194kB 15.9MB/s eta 0:00:01\r\u001b[K    20% |██████▋                         | 204kB 18.5MB/s eta 0:00:01\r\u001b[K    21% |███████                         | 215kB 19.1MB/s eta 0:00:01\r\u001b[K    22% |███████▎                        | 225kB 19.0MB/s eta 0:00:01\r\u001b[K    23% |███████▋                        | 235kB 19.5MB/s eta 0:00:01\r\u001b[K    24% |████████                        | 245kB 19.7MB/s eta 0:00:01\r\u001b[K    25% |████████▎                       | 256kB 19.9MB/s eta 0:00:01\r\u001b[K    26% |████████▋                       | 266kB 18.8MB/s eta 0:00:01\r\u001b[K    27% |█████████                       | 276kB 19.2MB/s eta 0:00:01\r\u001b[K    29% |█████████▎                      | 286kB 19.2MB/s eta 0:00:01\r\u001b[K    30% |█████████▋                      | 296kB 19.2MB/s eta 0:00:01\r\u001b[K    31% |██████████                      | 307kB 45.5MB/s eta 0:00:01\r\u001b[K    32% |██████████▎                     | 317kB 47.1MB/s eta 0:00:01\r\u001b[K    33% |██████████▋                     | 327kB 46.9MB/s eta 0:00:01\r\u001b[K    34% |███████████                     | 337kB 48.7MB/s eta 0:00:01\r\u001b[K    35% |███████████▎                    | 348kB 43.7MB/s eta 0:00:01\r\u001b[K    36% |███████████▋                    | 358kB 43.8MB/s eta 0:00:01\r\u001b[K    37% |████████████                    | 368kB 50.5MB/s eta 0:00:01\r\u001b[K    38% |████████████▎                   | 378kB 50.2MB/s eta 0:00:01\r\u001b[K    39% |████████████▋                   | 389kB 50.4MB/s eta 0:00:01\r\u001b[K    40% |█████████████                   | 399kB 32.3MB/s eta 0:00:01\r\u001b[K    41% |█████████████▎                  | 409kB 31.7MB/s eta 0:00:01\r\u001b[K    42% |█████████████▋                  | 419kB 31.3MB/s eta 0:00:01\r\u001b[K    43% |██████████████                  | 430kB 32.0MB/s eta 0:00:01\r\u001b[K    44% |██████████████▎                 | 440kB 32.0MB/s eta 0:00:01\r\u001b[K    45% |██████████████▋                 | 450kB 32.4MB/s eta 0:00:01\r\u001b[K    46% |███████████████                 | 460kB 32.0MB/s eta 0:00:01\r\u001b[K    47% |███████████████▎                | 471kB 32.0MB/s eta 0:00:01\r\u001b[K    48% |███████████████▋                | 481kB 32.3MB/s eta 0:00:01\r\u001b[K    49% |████████████████                | 491kB 32.2MB/s eta 0:00:01\r\u001b[K    50% |████████████████▎               | 501kB 50.8MB/s eta 0:00:01\r\u001b[K    51% |████████████████▋               | 512kB 48.6MB/s eta 0:00:01\r\u001b[K    52% |█████████████████               | 522kB 48.4MB/s eta 0:00:01\r\u001b[K    53% |█████████████████▎              | 532kB 46.5MB/s eta 0:00:01\r\u001b[K    54% |█████████████████▋              | 542kB 21.5MB/s eta 0:00:01\r\u001b[K    55% |██████████████████              | 552kB 22.3MB/s eta 0:00:01\r\u001b[K    57% |██████████████████▎             | 563kB 22.3MB/s eta 0:00:01\r\u001b[K    58% |██████████████████▋             | 573kB 22.2MB/s eta 0:00:01\r\u001b[K    59% |███████████████████             | 583kB 22.1MB/s eta 0:00:01\r\u001b[K    60% |███████████████████▎            | 593kB 21.6MB/s eta 0:00:01\r\u001b[K    61% |███████████████████▋            | 604kB 21.6MB/s eta 0:00:01\r\u001b[K    62% |████████████████████            | 614kB 22.2MB/s eta 0:00:01\r\u001b[K    63% |████████████████████▎           | 624kB 22.4MB/s eta 0:00:01\r\u001b[K    64% |████████████████████▋           | 634kB 23.0MB/s eta 0:00:01\r\u001b[K    65% |█████████████████████           | 645kB 52.5MB/s eta 0:00:01\r\u001b[K    66% |█████████████████████▎          | 655kB 53.4MB/s eta 0:00:01\r\u001b[K    67% |█████████████████████▋          | 665kB 41.0MB/s eta 0:00:01\r\u001b[K    68% |██████████████████████          | 675kB 41.1MB/s eta 0:00:01\r\u001b[K    69% |██████████████████████▎         | 686kB 41.9MB/s eta 0:00:01\r\u001b[K    70% |██████████████████████▋         | 696kB 43.9MB/s eta 0:00:01\r\u001b[K    71% |███████████████████████         | 706kB 43.7MB/s eta 0:00:01\r\u001b[K    72% |███████████████████████▎        | 716kB 44.4MB/s eta 0:00:01\r\u001b[K    73% |███████████████████████▋        | 727kB 43.8MB/s eta 0:00:01\r\u001b[K    74% |████████████████████████        | 737kB 43.2MB/s eta 0:00:01\r\u001b[K    75% |████████████████████████▎       | 747kB 43.9MB/s eta 0:00:01\r\u001b[K    76% |████████████████████████▋       | 757kB 43.5MB/s eta 0:00:01\r\u001b[K    77% |████████████████████████▉       | 768kB 59.2MB/s eta 0:00:01\r\u001b[K    78% |█████████████████████████▏      | 778kB 58.8MB/s eta 0:00:01\r\u001b[K    79% |█████████████████████████▌      | 788kB 57.2MB/s eta 0:00:01\r\u001b[K    80% |█████████████████████████▉      | 798kB 57.8MB/s eta 0:00:01\r\u001b[K    81% |██████████████████████████▏     | 808kB 57.5MB/s eta 0:00:01\r\u001b[K    82% |██████████████████████████▌     | 819kB 56.6MB/s eta 0:00:01\r\u001b[K    83% |██████████████████████████▉     | 829kB 58.5MB/s eta 0:00:01\r\u001b[K    85% |███████████████████████████▏    | 839kB 58.2MB/s eta 0:00:01\r\u001b[K    86% |███████████████████████████▌    | 849kB 58.6MB/s eta 0:00:01\r\u001b[K    87% |███████████████████████████▉    | 860kB 54.2MB/s eta 0:00:01\r\u001b[K    88% |████████████████████████████▏   | 870kB 53.8MB/s eta 0:00:01\r\u001b[K    89% |████████████████████████████▌   | 880kB 52.6MB/s eta 0:00:01\r\u001b[K    90% |████████████████████████████▉   | 890kB 52.3MB/s eta 0:00:01\r\u001b[K    91% |█████████████████████████████▏  | 901kB 51.4MB/s eta 0:00:01\r\u001b[K    92% |█████████████████████████████▌  | 911kB 52.0MB/s eta 0:00:01\r\u001b[K    93% |█████████████████████████████▉  | 921kB 51.4MB/s eta 0:00:01\r\u001b[K    94% |██████████████████████████████▏ | 931kB 51.6MB/s eta 0:00:01\r\u001b[K    95% |██████████████████████████████▌ | 942kB 49.9MB/s eta 0:00:01\r\u001b[K    96% |██████████████████████████████▉ | 952kB 48.5MB/s eta 0:00:01\r\u001b[K    97% |███████████████████████████████▏| 962kB 51.3MB/s eta 0:00:01\r\u001b[K    98% |███████████████████████████████▌| 972kB 50.8MB/s eta 0:00:01\r\u001b[K    99% |███████████████████████████████▉| 983kB 50.5MB/s eta 0:00:01\r\u001b[K    100% |████████████████████████████████| 993kB 19.7MB/s \n",
            "\u001b[?25hRequirement already satisfied: google-api-python-client>=1.2 in /usr/local/lib/python3.6/dist-packages (from pydrive) (1.6.7)\n",
            "Requirement already satisfied: oauth2client>=4.0.0 in /usr/local/lib/python3.6/dist-packages (from pydrive) (4.1.3)\n",
            "Requirement already satisfied: PyYAML>=3.0 in /usr/local/lib/python3.6/dist-packages (from pydrive) (3.13)\n",
            "Requirement already satisfied: httplib2<1dev,>=0.9.2 in /usr/local/lib/python3.6/dist-packages (from google-api-python-client>=1.2->pydrive) (0.11.3)\n",
            "Requirement already satisfied: six<2dev,>=1.6.1 in /usr/local/lib/python3.6/dist-packages (from google-api-python-client>=1.2->pydrive) (1.11.0)\n",
            "Requirement already satisfied: uritemplate<4dev,>=3.0.0 in /usr/local/lib/python3.6/dist-packages (from google-api-python-client>=1.2->pydrive) (3.0.0)\n",
            "Requirement already satisfied: pyasn1>=0.1.7 in /usr/local/lib/python3.6/dist-packages (from oauth2client>=4.0.0->pydrive) (0.4.4)\n",
            "Requirement already satisfied: rsa>=3.1.4 in /usr/local/lib/python3.6/dist-packages (from oauth2client>=4.0.0->pydrive) (4.0)\n",
            "Requirement already satisfied: pyasn1-modules>=0.0.5 in /usr/local/lib/python3.6/dist-packages (from oauth2client>=4.0.0->pydrive) (0.2.2)\n",
            "Building wheels for collected packages: pydrive\n",
            "  Running setup.py bdist_wheel for pydrive ... \u001b[?25l-\b \b\\\b \bdone\n",
            "\u001b[?25h  Stored in directory: /root/.cache/pip/wheels/fa/d2/9a/d3b6b506c2da98289e5d417215ce34b696db856643bad779f4\n",
            "Successfully built pydrive\n",
            "Installing collected packages: pydrive\n",
            "Successfully installed pydrive-1.3.1\n"
          ],
          "name": "stdout"
        }
      ]
    },
    {
      "metadata": {
        "id": "TZNlxtKnfp2_",
        "colab_type": "code",
        "colab": {}
      },
      "cell_type": "code",
      "source": [
        "from google.colab import auth\n",
        "auth.authenticate_user()\n",
        "\n",
        "from pydrive.drive import GoogleDrive\n",
        "from pydrive.auth import GoogleAuth\n",
        "from oauth2client.client import GoogleCredentials\n",
        "gauth = GoogleAuth()\n",
        "gauth.credentials = GoogleCredentials.get_application_default()\n",
        "drive = GoogleDrive(gauth)"
      ],
      "execution_count": 0,
      "outputs": []
    },
    {
      "metadata": {
        "id": "K4MKo_bSf_wI",
        "colab_type": "code",
        "colab": {}
      },
      "cell_type": "code",
      "source": [
        "myfile = drive.CreateFile({'id': '1BIxhj4jjbOh3Q1V6r8Bi75XujvMgkjLZ'})\n",
        "myfile.GetContentFile('train.csv')\n",
        "\n",
        "\n"
      ],
      "execution_count": 0,
      "outputs": []
    },
    {
      "metadata": {
        "id": "xai6j-4HgYie",
        "colab_type": "code",
        "colab": {}
      },
      "cell_type": "code",
      "source": [
        "train = pd.read_csv('train.csv',sep=',')"
      ],
      "execution_count": 0,
      "outputs": []
    },
    {
      "metadata": {
        "id": "-ghTwwM9ghor",
        "colab_type": "code",
        "colab": {}
      },
      "cell_type": "code",
      "source": [
        "myfile1 = drive.CreateFile({'id': '13Gxn87gGNotWOP9Qmye7FmRp8SMqZ7nA'})\n",
        "myfile1.GetContentFile('test.csv')"
      ],
      "execution_count": 0,
      "outputs": []
    },
    {
      "metadata": {
        "id": "Cf15qbMIgkt2",
        "colab_type": "code",
        "colab": {}
      },
      "cell_type": "code",
      "source": [
        "test = pd.read_csv('test.csv',sep=',')"
      ],
      "execution_count": 0,
      "outputs": []
    },
    {
      "metadata": {
        "id": "pNUepi92guqx",
        "colab_type": "code",
        "colab": {}
      },
      "cell_type": "code",
      "source": [
        "Y_train = train[\"label\"]\n",
        "\n",
        "# Drop 'label' column\n",
        "X_train = train.drop(labels = [\"label\"],axis = 1) "
      ],
      "execution_count": 0,
      "outputs": []
    },
    {
      "metadata": {
        "id": "BekbTa4XXOHy",
        "colab_type": "code",
        "colab": {}
      },
      "cell_type": "code",
      "source": [
        "def plot_model_history(model_history):\n",
        "    fig, axs = plt.subplots(1,2,figsize=(15,5))\n",
        "    # summarize history for accuracy\n",
        "    axs[0].plot(range(1,len(model_history.history['acc'])+1),model_history.history['acc'])\n",
        "    axs[0].plot(range(1,len(model_history.history['val_acc'])+1),model_history.history['val_acc'])\n",
        "    axs[0].set_title('Model Accuracy')\n",
        "    axs[0].set_ylabel('Accuracy')\n",
        "    axs[0].set_xlabel('Epoch')\n",
        "    axs[0].set_xticks(np.arange(1,len(model_history.history['acc'])+1),len(model_history.history['acc'])/10)\n",
        "    axs[0].legend(['train', 'val'], loc='best')\n",
        "    # summarize history for loss\n",
        "    axs[1].plot(range(1,len(model_history.history['loss'])+1),model_history.history['loss'])\n",
        "    axs[1].plot(range(1,len(model_history.history['val_loss'])+1),model_history.history['val_loss'])\n",
        "    axs[1].set_title('Model Loss')\n",
        "    axs[1].set_ylabel('Loss')\n",
        "    axs[1].set_xlabel('Epoch')\n",
        "    axs[1].set_xticks(np.arange(1,len(model_history.history['loss'])+1),len(model_history.history['loss'])/10)\n",
        "    axs[1].legend(['train', 'val'], loc='best')\n",
        "    plt.show()"
      ],
      "execution_count": 0,
      "outputs": []
    },
    {
      "metadata": {
        "id": "5zi859SRg-Fo",
        "colab_type": "text"
      },
      "cell_type": "markdown",
      "source": [
        "# Normalization\n",
        "\n",
        "We perform a grayscale normalization to reduce the effect of illumination's differences.\n",
        "\n",
        "Moreover the CNN converg faster on [0..1] data than on [0..255]."
      ]
    },
    {
      "metadata": {
        "id": "2EzW0dn-hGCq",
        "colab_type": "code",
        "colab": {}
      },
      "cell_type": "code",
      "source": [
        "# Normalize the data\n",
        "X_train = X_train / 255.0\n",
        "test = test / 255.0"
      ],
      "execution_count": 0,
      "outputs": []
    },
    {
      "metadata": {
        "id": "nyDsVoyMhWnZ",
        "colab_type": "code",
        "colab": {}
      },
      "cell_type": "code",
      "source": [
        "# Reshape image in 3 dimensions (height = 28px, width = 28px , canal = 1)\n",
        "X_train = X_train.values.reshape(-1,28,28,1)\n",
        "test = test.values.reshape(-1,28,28,1)"
      ],
      "execution_count": 0,
      "outputs": []
    },
    {
      "metadata": {
        "id": "5jstzdNrhsQh",
        "colab_type": "text"
      },
      "cell_type": "markdown",
      "source": [
        "Train and test images (28px x 28px) has been stock into pandas.Dataframe as 1D vectors of 784 values. We reshape all data to 28x28x1 3D matrices.\n",
        "\n",
        "Keras requires an extra dimension in the end which correspond to channels. MNIST images are gray scaled so it use only one channel. For RGB images, there is 3 channels, we would have reshaped 784px vectors to 28x28x3 3D matrices."
      ]
    },
    {
      "metadata": {
        "id": "8z7M4RMSh8Hn",
        "colab_type": "text"
      },
      "cell_type": "markdown",
      "source": [
        "# Label Encoding\n",
        "Labels are 10 digits numbers from 0 to 9. We need to encode these lables to one hot vectors (ex : 2 -> [0,0,1,0,0,0,0,0,0,0])"
      ]
    },
    {
      "metadata": {
        "id": "WGE288l9hpIY",
        "colab_type": "code",
        "colab": {}
      },
      "cell_type": "code",
      "source": [
        "# Encode labels to one hot vectors (ex : 2 -> [0,0,1,0,0,0,0,0,0,0])\n",
        "Y_train = to_categorical(Y_train, num_classes = 10)\n"
      ],
      "execution_count": 0,
      "outputs": []
    },
    {
      "metadata": {
        "id": "oVMmeEX_iHSa",
        "colab_type": "text"
      },
      "cell_type": "markdown",
      "source": [
        "# Splitting Training and Validation Set"
      ]
    },
    {
      "metadata": {
        "id": "_ec6Hr__hy2y",
        "colab_type": "code",
        "colab": {}
      },
      "cell_type": "code",
      "source": [
        "# Set the random seed\n",
        "random_seed = 2"
      ],
      "execution_count": 0,
      "outputs": []
    },
    {
      "metadata": {
        "id": "O-ftHuf8iMoi",
        "colab_type": "code",
        "colab": {}
      },
      "cell_type": "code",
      "source": [
        "# Split the train and the validation set for the fitting\n",
        "X_train, X_val, Y_train, Y_val = train_test_split(X_train, Y_train, test_size = 0.1, random_state=random_seed)"
      ],
      "execution_count": 0,
      "outputs": []
    },
    {
      "metadata": {
        "id": "qNdqkFzniXyJ",
        "colab_type": "text"
      },
      "cell_type": "markdown",
      "source": [
        "I choosed to split the train set in two parts : a small fraction (10%) became the validation set which the model is evaluated and the rest (90%) is used to train the model.\n",
        "\n",
        "Since we have 42 000 training images of balanced labels (see 2.1 Load data), a random split of the train set doesn't cause some labels to be over represented in the validation set. Be carefull with some unbalanced dataset a simple random split could cause inaccurate evaluation during the validation."
      ]
    },
    {
      "metadata": {
        "id": "GwUrZqsqiO6u",
        "colab_type": "code",
        "colab": {
          "base_uri": "https://localhost:8080/",
          "height": 347
        },
        "outputId": "568d728f-0444-477c-f0d8-c586d28b7d46"
      },
      "cell_type": "code",
      "source": [
        "# Some examples\n",
        "g = plt.imshow(X_train[0][:,:,0])"
      ],
      "execution_count": 18,
      "outputs": [
        {
          "output_type": "display_data",
          "data": {
            "image/png": "[encoded data removed]",
            "text/plain": [
              "<matplotlib.figure.Figure at 0x7f436ff2a160>"
            ]
          },
          "metadata": {
            "tags": []
          }
        }
      ]
    },
    {
      "metadata": {
        "id": "LIHNZMSiie9W",
        "colab_type": "text"
      },
      "cell_type": "markdown",
      "source": [
        "# CNN Model"
      ]
    },
    {
      "metadata": {
        "id": "SvwiNnHPixFk",
        "colab_type": "text"
      },
      "cell_type": "markdown",
      "source": [
        "I used the Keras Sequential API, where you have just to add one layer at a time, starting from the input.\n",
        "\n",
        "The first is the convolutional (Conv2D) layer. It is like a set of learnable filters. I choosed to set 32 filters for the two firsts conv2D layers and 64 filters for the two last ones. Each filter transforms a part of the image (defined by the kernel size) using the kernel filter. The kernel filter matrix is applied on the whole image. Filters can be seen as a transformation of the image.\n",
        "\n",
        "The CNN can isolate features that are useful everywhere from these transformed images (feature maps).\n",
        "\n",
        "The second important layer in CNN is the pooling (MaxPool2D) layer. This layer simply acts as a downsampling filter. It looks at the 2 neighboring pixels and picks the maximal value. These are used to reduce computational cost, and to some extent also reduce overfitting. We have to choose the pooling size (i.e the area size pooled each time) more the pooling dimension is high, more the downsampling is important.\n",
        "\n",
        "Combining convolutional and pooling layers, CNN are able to combine local features and learn more global features of the image.\n",
        "\n",
        "Dropout is a regularization method, where a proportion of nodes in the layer are randomly ignored (setting their wieghts to zero) for each training sample. This drops randomly a propotion of the network and forces the network to learn features in a distributed way. This technique also improves generalization and reduces the overfitting.\n",
        "\n",
        "'relu' is the rectifier (activation function max(0,x). The rectifier activation function is used to add non linearity to the network.\n",
        "\n",
        "The Flatten layer is use to convert the final feature maps into a one single 1D vector. This flattening step is needed so that you can make use of fully connected layers after some convolutional/maxpool layers. It combines all the found local features of the previous convolutional layers.\n",
        "\n",
        "In the end i used the features in two fully-connected (Dense) layers which is just artificial an neural networks (ANN) classifier. In the last layer(Dense(10,activation=\"softmax\")) the net outputs distribution of probability of each class."
      ]
    },
    {
      "metadata": {
        "id": "FXQr0fkjigzR",
        "colab_type": "code",
        "colab": {
          "base_uri": "https://localhost:8080/",
          "height": 544
        },
        "outputId": "9cccd684-4572-4f24-a188-badbc2c58fe1"
      },
      "cell_type": "code",
      "source": [
        "# Set the CNN model \n",
        "# my CNN architechture is In -> [[Conv2D->relu]*2 -> MaxPool2D -> Dropout]*2 -> Flatten -> Dense -> Dropout -> Out\n",
        "\n",
        "model = Sequential()\n",
        "\n",
        "model.add(Conv2D(filters = 32, kernel_size = (5,5),padding = 'Same', \n",
        "                 activation ='relu', input_shape = (28,28,1)))\n",
        "model.add(Conv2D(filters = 32, kernel_size = (5,5),padding = 'Same', \n",
        "                 activation ='relu'))\n",
        "\n",
        "model.add(MaxPool2D(pool_size=(2,2)))\n",
        "model.add(Dropout(0.25))\n",
        "\n",
        "\n",
        "model.add(Conv2D(filters = 64, kernel_size = (3,3),padding = 'Same', \n",
        "                 activation ='relu'))\n",
        "model.add(Conv2D(filters = 64, kernel_size = (3,3),padding = 'Same', \n",
        "                 activation ='relu'))\n",
        "\n",
        "model.add(MaxPool2D(pool_size=(2,2), strides=(2,2)))\n",
        "model.add(Dropout(0.25))\n",
        "\n",
        "\n",
        "model.add(Flatten())\n",
        "model.add(Dense(256, activation = \"relu\"))\n",
        "model.add(Dropout(0.5))\n",
        "model.add(Dense(10, activation = \"softmax\"))\n",
        "model.summary()"
      ],
      "execution_count": 23,
      "outputs": [
        {
          "output_type": "stream",
          "text": [
            "_________________________________________________________________\n",
            "Layer (type)                 Output Shape              Param #   \n",
            "=================================================================\n",
            "conv2d_5 (Conv2D)            (None, 28, 28, 32)        832       \n",
            "_________________________________________________________________\n",
            "conv2d_6 (Conv2D)            (None, 28, 28, 32)        25632     \n",
            "_________________________________________________________________\n",
            "max_pooling2d_3 (MaxPooling2 (None, 14, 14, 32)        0         \n",
            "_________________________________________________________________\n",
            "dropout_4 (Dropout)          (None, 14, 14, 32)        0         \n",
            "_________________________________________________________________\n",
            "conv2d_7 (Conv2D)            (None, 14, 14, 64)        18496     \n",
            "_________________________________________________________________\n",
            "conv2d_8 (Conv2D)            (None, 14, 14, 64)        36928     \n",
            "_________________________________________________________________\n",
            "max_pooling2d_4 (MaxPooling2 (None, 7, 7, 64)          0         \n",
            "_________________________________________________________________\n",
            "dropout_5 (Dropout)          (None, 7, 7, 64)          0         \n",
            "_________________________________________________________________\n",
            "flatten_2 (Flatten)          (None, 3136)              0         \n",
            "_________________________________________________________________\n",
            "dense_3 (Dense)              (None, 256)               803072    \n",
            "_________________________________________________________________\n",
            "dropout_6 (Dropout)          (None, 256)               0         \n",
            "_________________________________________________________________\n",
            "dense_4 (Dense)              (None, 10)                2570      \n",
            "=================================================================\n",
            "Total params: 887,530\n",
            "Trainable params: 887,530\n",
            "Non-trainable params: 0\n",
            "_________________________________________________________________\n"
          ],
          "name": "stdout"
        }
      ]
    },
    {
      "metadata": {
        "id": "vTEQeDvdjO2j",
        "colab_type": "text"
      },
      "cell_type": "markdown",
      "source": [
        "# Setting Optimizer and Annealer\n",
        "\n",
        "Once our layers are added to the model, we need to set up a score function, a loss function and an optimisation algorithm.\n",
        "\n",
        "We define the loss function to measure how poorly our model performs on images with known labels. It is the error rate between the oberved labels and the predicted ones. We use a specific form for categorical classifications (>2 classes) called the \"categorical_crossentropy\".\n",
        "\n",
        "The most important function is the optimizer. This function will iteratively improve parameters (filters kernel values, weights and bias of neurons ...) in order to minimise the loss.\n",
        "\n",
        "I choosed **Adam** optimizer because it combines the advantages of two other extensions of stochastic gradient descent. Specifically:\n",
        "\n",
        "**1. Adaptive Gradient Algorithm (AdaGrad)** that maintains a per-parameter learning rate that improves performance on problems with sparse gradients (e.g. natural language and computer vision problems).\n",
        "\n",
        "**2. Root Mean Square Propagation (RMSProp)** that also maintains per-parameter learning rates that are adapted based on the average of recent magnitudes of the gradients for the weight (e.g. how quickly it is changing). This means the algorithm does well on online and non-stationary problems (e.g. noisy).\n",
        "\n",
        "Adam realizes the benefits of both AdaGrad and RMSProp.\n",
        "\n",
        "Adam is a popular algorithm in the field of deep learning because it achieves good results fast.\n",
        "\n",
        "The metric function \"**accuracy\"** is used is to evaluate the performance our model. This metric function is similar to the loss function, except that the results from the metric evaluation are not used when training the model (only for evaluation)."
      ]
    },
    {
      "metadata": {
        "id": "nMuxwFIQi-vh",
        "colab_type": "code",
        "colab": {}
      },
      "cell_type": "code",
      "source": [
        "# Define the optimizer\n",
        "optimizer = Adam(lr=0.001, beta_1=0.9, beta_2=0.999, epsilon=None, decay=0.0, amsgrad=False)"
      ],
      "execution_count": 0,
      "outputs": []
    },
    {
      "metadata": {
        "id": "nSkordqikx0k",
        "colab_type": "code",
        "colab": {}
      },
      "cell_type": "code",
      "source": [
        "# Compile the model\n",
        "model.compile(optimizer = optimizer , loss = \"categorical_crossentropy\", metrics=[\"accuracy\"])"
      ],
      "execution_count": 0,
      "outputs": []
    },
    {
      "metadata": {
        "id": "VeMSmMf6lXU8",
        "colab_type": "text"
      },
      "cell_type": "markdown",
      "source": [
        "In order to make the optimizer converge faster and closest to the global minimum of the loss function, i used an annealing method of the learning rate (LR).\n",
        "\n",
        "The LR is the step by which the optimizer walks through the 'loss landscape'. The higher LR, the bigger are the steps and the quicker is the convergence. However the sampling is very poor with an high LR and the optimizer could probably fall into a local minima.\n",
        "\n",
        "Its better to have a decreasing learning rate during the training to reach efficiently the global minimum of the loss function.\n",
        "\n",
        "To keep the advantage of the fast computation time with a high LR, i decreased the LR dynamically every X steps (epochs) depending if it is necessary (when accuracy is not improved).\n",
        "\n",
        "With the ReduceLROnPlateau function from Keras.callbacks, i choose to reduce the LR by half if the accuracy is not improved after 3 epochs."
      ]
    },
    {
      "metadata": {
        "id": "_X0-kmQElYg3",
        "colab_type": "code",
        "colab": {}
      },
      "cell_type": "code",
      "source": [
        "# Set a learning rate annealer\n",
        "learning_rate_reduction = ReduceLROnPlateau(monitor='val_acc', \n",
        "                                            patience=3, \n",
        "                                            verbose=1, \n",
        "                                            factor=0.5, \n",
        "                                            min_lr=0.00001)"
      ],
      "execution_count": 0,
      "outputs": []
    },
    {
      "metadata": {
        "id": "EWHQOojAla5U",
        "colab_type": "code",
        "colab": {}
      },
      "cell_type": "code",
      "source": [
        "epochs = 35 # Turn epochs to 30 to get 0.9967 accuracy\n",
        "batch_size = 28"
      ],
      "execution_count": 0,
      "outputs": []
    },
    {
      "metadata": {
        "id": "_A-2Ld-lln98",
        "colab_type": "text"
      },
      "cell_type": "markdown",
      "source": [
        "# Data Augmentation\n",
        "\n",
        "In order to avoid overfitting problem, we need to expand artificially our handwritten digit dataset. We can make your existing dataset even larger. The idea is to alter the training data with small transformations to reproduce the variations occuring when someone is writing a digit.\n",
        "\n",
        "For example, the number is not centered The scale is not the same (some who write with big/small numbers) The image is rotated...\n",
        "\n",
        "Approaches that alter the training data in ways that change the array representation while keeping the label the same are known as data augmentation techniques. Some popular augmentations people use are grayscales, horizontal flips, vertical flips, random crops, color jitters, translations, rotations, and much more.\n",
        "\n",
        "By applying just a couple of these transformations to our training data, we can easily double or triple the number of training examples and create a very robust model."
      ]
    },
    {
      "metadata": {
        "id": "aIjQG8tQlkAG",
        "colab_type": "code",
        "colab": {}
      },
      "cell_type": "code",
      "source": [
        "# With data augmentation to prevent overfitting (accuracy 0.99286)\n",
        "\n",
        "datagen = ImageDataGenerator(\n",
        "        featurewise_center=False,  # set input mean to 0 over the dataset\n",
        "        samplewise_center=False,  # set each sample mean to 0\n",
        "        featurewise_std_normalization=False,  # divide inputs by std of the dataset\n",
        "        samplewise_std_normalization=False,  # divide each input by its std\n",
        "        zca_whitening=False,  # apply ZCA whitening\n",
        "        rotation_range=10,  # randomly rotate images in the range (degrees, 0 to 180)\n",
        "        zoom_range = 0.1, # Randomly zoom image \n",
        "        width_shift_range=0.1,  # randomly shift images horizontally (fraction of total width)\n",
        "        height_shift_range=0.1,  # randomly shift images vertically (fraction of total height)\n",
        "        horizontal_flip=False,  # randomly flip images\n",
        "        vertical_flip=False)  # randomly flip images\n",
        "\n",
        "datagen.fit(X_train)\n"
      ],
      "execution_count": 0,
      "outputs": []
    },
    {
      "metadata": {
        "id": "_XSlHq0tmEDG",
        "colab_type": "text"
      },
      "cell_type": "markdown",
      "source": [
        "For the data augmentation, i choosed to :\n",
        "\n",
        "Randomly rotate some training images by 10 degrees\n",
        "Randomly Zoom by 10% some training images\n",
        "Randomly shift images horizontally by 10% of the width\n",
        "Randomly shift images vertically by 10% of the height\n",
        "I did not apply a vertical_flip nor horizontal_flip since it could have lead to misclassify symetrical numbers such as 6 and 9.\n",
        "\n",
        "Once our model is ready, we fit the training dataset ."
      ]
    },
    {
      "metadata": {
        "id": "m0-TPyhcl5db",
        "colab_type": "code",
        "colab": {
          "base_uri": "https://localhost:8080/",
          "height": 1445
        },
        "outputId": "e4934f9b-0dcf-4d49-b5c5-61124dff5b13"
      },
      "cell_type": "code",
      "source": [
        "# Fit the model\n",
        "history = model.fit_generator(datagen.flow(X_train,Y_train, batch_size=batch_size),\n",
        "                              epochs = epochs, validation_data = (X_val,Y_val),\n",
        "                              verbose = 1, steps_per_epoch=X_train.shape[0] // batch_size\n",
        "                              , callbacks=[learning_rate_reduction])"
      ],
      "execution_count": 32,
      "outputs": [
        {
          "output_type": "stream",
          "text": [
            "Epoch 1/35\n",
            "1350/1350 [==============================] - 26s 19ms/step - loss: 0.3262 - acc: 0.8949 - val_loss: 0.0706 - val_acc: 0.9810\n",
            "Epoch 2/35\n",
            "1350/1350 [==============================] - 26s 19ms/step - loss: 0.1247 - acc: 0.9644 - val_loss: 0.0459 - val_acc: 0.9867\n",
            "Epoch 3/35\n",
            "1350/1350 [==============================] - 26s 19ms/step - loss: 0.0964 - acc: 0.9707 - val_loss: 0.0277 - val_acc: 0.9912\n",
            "Epoch 4/35\n",
            "1350/1350 [==============================] - 26s 19ms/step - loss: 0.0822 - acc: 0.9763 - val_loss: 0.0286 - val_acc: 0.9921\n",
            "Epoch 5/35\n",
            "1350/1350 [==============================] - 26s 19ms/step - loss: 0.0751 - acc: 0.9777 - val_loss: 0.0290 - val_acc: 0.9914\n",
            "Epoch 6/35\n",
            "1350/1350 [==============================] - 26s 19ms/step - loss: 0.0688 - acc: 0.9798 - val_loss: 0.0242 - val_acc: 0.9914\n",
            "Epoch 7/35\n",
            "1350/1350 [==============================] - 26s 19ms/step - loss: 0.0647 - acc: 0.9811 - val_loss: 0.0205 - val_acc: 0.9931\n",
            "Epoch 8/35\n",
            "1350/1350 [==============================] - 26s 19ms/step - loss: 0.0593 - acc: 0.9828 - val_loss: 0.0248 - val_acc: 0.9914\n",
            "Epoch 9/35\n",
            "1350/1350 [==============================] - 26s 19ms/step - loss: 0.0598 - acc: 0.9826 - val_loss: 0.0216 - val_acc: 0.9931\n",
            "Epoch 10/35\n",
            "1350/1350 [==============================] - 26s 19ms/step - loss: 0.0533 - acc: 0.9846 - val_loss: 0.0192 - val_acc: 0.9929\n",
            "\n",
            "Epoch 00010: ReduceLROnPlateau reducing learning rate to 0.0005000000237487257.\n",
            "Epoch 11/35\n",
            "1350/1350 [==============================] - 26s 19ms/step - loss: 0.0392 - acc: 0.9885 - val_loss: 0.0152 - val_acc: 0.9960\n",
            "Epoch 12/35\n",
            "1350/1350 [==============================] - 26s 19ms/step - loss: 0.0352 - acc: 0.9894 - val_loss: 0.0171 - val_acc: 0.9955\n",
            "Epoch 13/35\n",
            "1350/1350 [==============================] - 26s 19ms/step - loss: 0.0354 - acc: 0.9893 - val_loss: 0.0210 - val_acc: 0.9943\n",
            "Epoch 14/35\n",
            "1350/1350 [==============================] - 26s 19ms/step - loss: 0.0360 - acc: 0.9895 - val_loss: 0.0179 - val_acc: 0.9950\n",
            "\n",
            "Epoch 00014: ReduceLROnPlateau reducing learning rate to 0.0002500000118743628.\n",
            "Epoch 15/35\n",
            "1350/1350 [==============================] - 26s 19ms/step - loss: 0.0291 - acc: 0.9913 - val_loss: 0.0163 - val_acc: 0.9957\n",
            "Epoch 16/35\n",
            "1350/1350 [==============================] - 26s 19ms/step - loss: 0.0272 - acc: 0.9918 - val_loss: 0.0160 - val_acc: 0.9952\n",
            "Epoch 17/35\n",
            "1350/1350 [==============================] - 26s 19ms/step - loss: 0.0279 - acc: 0.9915 - val_loss: 0.0139 - val_acc: 0.9955\n",
            "\n",
            "Epoch 00017: ReduceLROnPlateau reducing learning rate to 0.0001250000059371814.\n",
            "Epoch 18/35\n",
            "1350/1350 [==============================] - 26s 19ms/step - loss: 0.0236 - acc: 0.9933 - val_loss: 0.0133 - val_acc: 0.9957\n",
            "Epoch 19/35\n",
            "1350/1350 [==============================] - 26s 19ms/step - loss: 0.0220 - acc: 0.9934 - val_loss: 0.0159 - val_acc: 0.9960\n",
            "Epoch 20/35\n",
            "1350/1350 [==============================] - 26s 19ms/step - loss: 0.0220 - acc: 0.9931 - val_loss: 0.0143 - val_acc: 0.9960\n",
            "\n",
            "Epoch 00020: ReduceLROnPlateau reducing learning rate to 6.25000029685907e-05.\n",
            "Epoch 21/35\n",
            "1350/1350 [==============================] - 26s 19ms/step - loss: 0.0205 - acc: 0.9938 - val_loss: 0.0134 - val_acc: 0.9969\n",
            "Epoch 22/35\n",
            "1350/1350 [==============================] - 26s 19ms/step - loss: 0.0211 - acc: 0.9936 - val_loss: 0.0148 - val_acc: 0.9967\n",
            "Epoch 23/35\n",
            "1350/1350 [==============================] - 26s 19ms/step - loss: 0.0202 - acc: 0.9940 - val_loss: 0.0152 - val_acc: 0.9962\n",
            "Epoch 24/35\n",
            "1350/1350 [==============================] - 26s 19ms/step - loss: 0.0183 - acc: 0.9947 - val_loss: 0.0135 - val_acc: 0.9964\n",
            "\n",
            "Epoch 00024: ReduceLROnPlateau reducing learning rate to 3.125000148429535e-05.\n",
            "Epoch 25/35\n",
            "1350/1350 [==============================] - 26s 19ms/step - loss: 0.0181 - acc: 0.9944 - val_loss: 0.0138 - val_acc: 0.9964\n",
            "Epoch 26/35\n",
            "1350/1350 [==============================] - 26s 19ms/step - loss: 0.0184 - acc: 0.9946 - val_loss: 0.0132 - val_acc: 0.9967\n",
            "Epoch 27/35\n",
            "1350/1350 [==============================] - 26s 19ms/step - loss: 0.0178 - acc: 0.9944 - val_loss: 0.0137 - val_acc: 0.9967\n",
            "\n",
            "Epoch 00027: ReduceLROnPlateau reducing learning rate to 1.5625000742147677e-05.\n",
            "Epoch 28/35\n",
            "1350/1350 [==============================] - 26s 19ms/step - loss: 0.0179 - acc: 0.9944 - val_loss: 0.0132 - val_acc: 0.9967\n",
            "Epoch 29/35\n",
            "1350/1350 [==============================] - 26s 19ms/step - loss: 0.0166 - acc: 0.9953 - val_loss: 0.0136 - val_acc: 0.9969\n",
            "Epoch 30/35\n",
            "1350/1350 [==============================] - 26s 19ms/step - loss: 0.0161 - acc: 0.9950 - val_loss: 0.0135 - val_acc: 0.9964\n",
            "\n",
            "Epoch 00030: ReduceLROnPlateau reducing learning rate to 1e-05.\n",
            "Epoch 31/35\n",
            "1350/1350 [==============================] - 26s 19ms/step - loss: 0.0174 - acc: 0.9944 - val_loss: 0.0141 - val_acc: 0.9964\n",
            "Epoch 32/35\n",
            "1350/1350 [==============================] - 26s 19ms/step - loss: 0.0187 - acc: 0.9943 - val_loss: 0.0139 - val_acc: 0.9967\n",
            "Epoch 33/35\n",
            "1350/1350 [==============================] - 26s 19ms/step - loss: 0.0185 - acc: 0.9946 - val_loss: 0.0136 - val_acc: 0.9967\n",
            "Epoch 34/35\n",
            "1350/1350 [==============================] - 26s 19ms/step - loss: 0.0174 - acc: 0.9947 - val_loss: 0.0136 - val_acc: 0.9967\n",
            "Epoch 35/35\n",
            "1350/1350 [==============================] - 26s 19ms/step - loss: 0.0156 - acc: 0.9949 - val_loss: 0.0141 - val_acc: 0.9967\n"
          ],
          "name": "stdout"
        }
      ]
    },
    {
      "metadata": {
        "id": "qnwUJCkDX4rD",
        "colab_type": "code",
        "colab": {
          "base_uri": "https://localhost:8080/",
          "height": 51
        },
        "outputId": "8d628c1f-37db-4ed2-b0ed-f0e858e19acc"
      },
      "cell_type": "code",
      "source": [
        "loss, accuracy = model.evaluate(X_train, Y_train, verbose=1)\n",
        "print(\"Training: accuracy = %f  ;  loss = %f\" % (accuracy, loss))"
      ],
      "execution_count": 33,
      "outputs": [
        {
          "output_type": "stream",
          "text": [
            "37800/37800 [==============================] - 5s 137us/step\n",
            "Training: accuracy = 0.998651  ;  loss = 0.004843\n"
          ],
          "name": "stdout"
        }
      ]
    },
    {
      "metadata": {
        "id": "13QIvOmWX8-l",
        "colab_type": "code",
        "colab": {
          "base_uri": "https://localhost:8080/",
          "height": 51
        },
        "outputId": "4d5c100c-06e1-4b89-e08b-d27ee2af8eaf"
      },
      "cell_type": "code",
      "source": [
        "loss, accuracy = model.evaluate(X_val, Y_val, verbose=1)\n",
        "print(\"Validation: accuracy = %f  ;  loss = %f\" % (accuracy, loss))"
      ],
      "execution_count": 36,
      "outputs": [
        {
          "output_type": "stream",
          "text": [
            "4200/4200 [==============================] - 1s 140us/step\n",
            "Validation: accuracy = 0.996667  ;  loss = 0.014121\n"
          ],
          "name": "stdout"
        }
      ]
    },
    {
      "metadata": {
        "id": "Alr516D1YAhp",
        "colab_type": "code",
        "colab": {}
      },
      "cell_type": "code",
      "source": [
        "model.save(\"model.h5\")"
      ],
      "execution_count": 0,
      "outputs": []
    },
    {
      "metadata": {
        "id": "2mrboy2cYFaD",
        "colab_type": "code",
        "colab": {
          "base_uri": "https://localhost:8080/",
          "height": 349
        },
        "outputId": "a0cd26a1-e13e-4dee-dc74-323905035157"
      },
      "cell_type": "code",
      "source": [
        "plot_model_history(history)"
      ],
      "execution_count": 40,
      "outputs": [
        {
          "output_type": "display_data",
          "data": {
            "image/png": "[encoded data removed]",
            "text/plain": [
              "<matplotlib.figure.Figure at 0x7fee061f5160>"
            ]
          },
          "metadata": {
            "tags": []
          }
        }
      ]
    },
    {
      "metadata": {
        "id": "gnlSWxM9l1IU",
        "colab_type": "code",
        "colab": {}
      },
      "cell_type": "code",
      "source": [
        "# predict results\n",
        "results = model.predict(test)\n",
        "\n",
        "# select the indix with the maximum probability\n",
        "results = np.argmax(results,axis = 1)\n",
        "\n",
        "results = pd.Series(results,name=\"Label\")"
      ],
      "execution_count": 0,
      "outputs": []
    },
    {
      "metadata": {
        "id": "jU_FlUvwsul5",
        "colab_type": "code",
        "colab": {}
      },
      "cell_type": "code",
      "source": [
        "submission = pd.concat([pd.Series(range(1,28001),name = \"ImageId\"),results],axis = 1)\n",
        "from google.colab import files\n",
        "\n",
        "submission.to_csv(\"cnn_mnist_datagen.csv\",index=False)\n",
        "files.download(\"cnn_mnist_datagen.csv\")\n"
      ],
      "execution_count": 0,
      "outputs": []
    },
    {
      "metadata": {
        "id": "CL7dV2juaFCG",
        "colab_type": "code",
        "colab": {
          "base_uri": "https://localhost:8080/",
          "height": 415
        },
        "outputId": "871eb68e-5069-45d0-fc2d-bf492eddc910"
      },
      "cell_type": "code",
      "source": [
        "# Look at confusion matrix \n",
        "\n",
        "def plot_confusion_matrix(cm, classes,\n",
        "                          normalize=False,\n",
        "                          title='Confusion matrix',\n",
        "                          cmap=plt.cm.Blues):\n",
        "    \"\"\"\n",
        "    This function prints and plots the confusion matrix.\n",
        "    Normalization can be applied by setting `normalize=True`.\n",
        "    \"\"\"\n",
        "    plt.imshow(cm, interpolation='nearest', cmap=cmap)\n",
        "    plt.title(title)\n",
        "    plt.colorbar()\n",
        "    tick_marks = np.arange(len(classes))\n",
        "    plt.xticks(tick_marks, classes, rotation=45)\n",
        "    plt.yticks(tick_marks, classes)\n",
        "\n",
        "    if normalize:\n",
        "        cm = cm.astype('float') / cm.sum(axis=1)[:, np.newaxis]\n",
        "\n",
        "    thresh = cm.max() / 2.\n",
        "    for i, j in itertools.product(range(cm.shape[0]), range(cm.shape[1])):\n",
        "        plt.text(j, i, cm[i, j],\n",
        "                 horizontalalignment=\"center\",\n",
        "                 color=\"white\" if cm[i, j] > thresh else \"black\")\n",
        "\n",
        "    plt.tight_layout()\n",
        "    plt.ylabel('True label')\n",
        "    plt.xlabel('Predicted label')\n",
        "\n",
        "# Predict the values from the validation dataset\n",
        "Y_pred = model.predict(X_val)\n",
        "# Convert predictions classes to one hot vectors \n",
        "Y_pred_classes = np.argmax(Y_pred,axis = 1) \n",
        "# Convert validation observations to one hot vectors\n",
        "Y_true = np.argmax(Y_val,axis = 1) \n",
        "# compute the confusion matrix\n",
        "confusion_mtx = confusion_matrix(Y_true, Y_pred_classes) \n",
        "# plot the confusion matrix\n",
        "plot_confusion_matrix(confusion_mtx, classes = range(10)) "
      ],
      "execution_count": 44,
      "outputs": [
        {
          "output_type": "display_data",
          "data": {
            "image/png": "[encoded data removed]",
            "text/plain": [
              "<matplotlib.figure.Figure at 0x7fee06046198>"
            ]
          },
          "metadata": {
            "tags": []
          }
        }
      ]
    },
    {
      "metadata": {
        "id": "dysxcNXWZmrI",
        "colab_type": "code",
        "colab": {
          "base_uri": "https://localhost:8080/",
          "height": 376
        },
        "outputId": "eba5003a-9cc6-4afe-fd47-b3b80923b13b"
      },
      "cell_type": "code",
      "source": [
        "# Errors are difference between predicted labels and true labels\n",
        "errors = (Y_pred_classes - Y_true != 0)\n",
        "\n",
        "Y_pred_classes_errors = Y_pred_classes[errors]\n",
        "Y_pred_errors = Y_pred[errors]\n",
        "Y_true_errors = Y_true[errors]\n",
        "X_val_errors = X_val[errors]\n",
        "\n",
        "def display_errors(errors_index,img_errors,pred_errors, obs_errors):\n",
        "    \"\"\" This function shows 6 images with their predicted and real labels\"\"\"\n",
        "    n = 0\n",
        "    nrows = 2\n",
        "    ncols = 3\n",
        "    fig, ax = plt.subplots(nrows,ncols,sharex=True,sharey=True)\n",
        "    for row in range(nrows):\n",
        "        for col in range(ncols):\n",
        "            error = errors_index[n]\n",
        "            ax[row,col].imshow((img_errors[error]).reshape((28,28)))\n",
        "            ax[row,col].set_title(\"Predicted label :{}\\nTrue label :{}\".format(pred_errors[error],obs_errors[error]))\n",
        "            n += 1\n",
        "\n",
        "# Probabilities of the wrong predicted numbers\n",
        "Y_pred_errors_prob = np.max(Y_pred_errors,axis = 1)\n",
        "\n",
        "# Predicted probabilities of the true values in the error set\n",
        "true_prob_errors = np.diagonal(np.take(Y_pred_errors, Y_true_errors, axis=1))\n",
        "\n",
        "# Difference between the probability of the predicted label and the true label\n",
        "delta_pred_true_errors = Y_pred_errors_prob - true_prob_errors\n",
        "\n",
        "# Sorted list of the delta prob errors\n",
        "sorted_dela_errors = np.argsort(delta_pred_true_errors)\n",
        "\n",
        "# Top 6 errors \n",
        "most_important_errors = sorted_dela_errors[-6:]\n",
        "\n",
        "# Show the top 6 errors\n",
        "display_errors(most_important_errors, X_val_errors, Y_pred_classes_errors, Y_true_errors)"
      ],
      "execution_count": 45,
      "outputs": [
        {
          "output_type": "display_data",
          "data": {
            "image/png": "[encoded data removed]",
            "text/plain": [
              "<matplotlib.figure.Figure at 0x7fee05fe70f0>"
            ]
          },
          "metadata": {
            "tags": []
          }
        }
      ]
    },
    {
      "metadata": {
        "id": "cGwJ3LAzaU4-",
        "colab_type": "text"
      },
      "cell_type": "markdown",
      "source": [
        "# Conclusion\n",
        "\n",
        "As we see in the above six cases. Some of these errors can also be made by humans, especially for one the 3 that is very close to a 8. The last 9 is also very misleading, it seems for me that is a 4."
      ]
    },
    {
      "metadata": {
        "id": "x4YbBmAgZ2i3",
        "colab_type": "code",
        "colab": {}
      },
      "cell_type": "code",
      "source": [
        ""
      ],
      "execution_count": 0,
      "outputs": []
    }
  ]
}